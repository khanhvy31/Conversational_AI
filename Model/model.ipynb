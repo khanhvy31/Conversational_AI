{
 "cells": [
  {
   "cell_type": "markdown",
   "metadata": {},
   "source": [
    "# Train a classifier"
   ]
  },
  {
   "cell_type": "code",
   "execution_count": null,
   "metadata": {},
   "outputs": [],
   "source": [
    "from transformers import AutoModelForCausalLM, AutoTokenizer\n",
    "import torch\n",
    "from sklearn.feature_extraction.text import CountVectorizer\n",
    "from sklearn.linear_model import LogisticRegression\n",
    "\n",
    "# Load the DialoGPT model and tokenizer\n",
    "model_name = \"microsoft/DialoGPT-large\"\n",
    "tokenizer = AutoTokenizer.from_pretrained(model_name)\n",
    "model = AutoModelForCausalLM.from_pretrained(model_name)\n",
    "\n",
    "questions = [\n",
    "    \"Have you been experiencing any negative mood changes or health problems recently? If yes, please describe.\",\n",
    "    \"How long (in weeks) have you been facing these problems?\",\n",
    "    \"How have these problems impacted your life, work, and relationships?\",\n",
    "    \"On a scale of 1 to 10, how severely impacted do you feel by these problems? 10 stands for the most severe impact and 1 for the least severe impact.\",\n",
    "    \"Is there a life event that might have led to these changes? Please describe.\",\n",
    "\n",
    "    \"\"\n",
    "]\n",
    "\n",
    "# Placeholder as examples\n",
    "question_types = [\n",
    "    \"negative mood\",\n",
    "    \"the duration\",\n",
    "    \"the impact\",\n",
    "    \"the scale\",\n",
    "    \"life event\",\n",
    "    \"\",\n",
    "    \"\",\n",
    "    \n",
    "    \"\"\n",
    "]\n",
    "\n",
    "# Mock classification model training - in practice, you'd have a larger, annotated dataset for this\n",
    "def train_response_classifier():\n",
    "    responses = [\n",
    "        (\"description\", \"I have been feeling quite down lately.\"),\n",
    "        (\"description\", \"Yes, I often feel tired.\"),\n",
    "        (\"duration\", \"It has been about 5 weeks.\"),\n",
    "        (\"duration\", \"For a couple of months.\"),\n",
    "        (\"impact\", \"It has really affected my work performance.\"),\n",
    "        (\"impact\", \"My relationships are suffering.\"),\n",
    "        (\"scale\", \"I would say it's about an 8.\"),\n",
    "        (\"scale\", \"Maybe a 6.\")\n",
    "    ]\n",
    "\n",
    "    vectorizer = CountVectorizer()\n",
    "    train_texts = [response[1] for response in responses]\n",
    "    train_labels = [response[0] for response in responses]\n",
    "\n",
    "    X = vectorizer.fit_transform(train_texts)\n",
    "    classifier = LogisticRegression()\n",
    "    classifier.fit(X, train_labels)\n",
    "    \n",
    "    return vectorizer, classifier\n",
    "\n",
    "vectorizer, classifier = train_response_classifier()\n",
    "\n",
    "def classify_response(question_type, response):\n",
    "    X = vectorizer.transform([response])\n",
    "    pred = classifier.predict(X)[0]\n",
    "    return pred == question_type\n",
    "\n",
    "def generate_response(prompt):\n",
    "    inputs = tokenizer.encode(prompt + tokenizer.eos_token, return_tensors=\"pt\")\n",
    "    outputs = model.generate(inputs, max_length=1000, pad_token_id=tokenizer.eos_token_id)\n",
    "    response = tokenizer.decode(outputs[:, inputs.shape[-1]:][0], skip_special_tokens=True)\n",
    "    return response\n"
   ]
  },
  {
   "cell_type": "code",
   "execution_count": null,
   "metadata": {},
   "outputs": [],
   "source": []
  },
  {
   "cell_type": "code",
   "execution_count": null,
   "metadata": {},
   "outputs": [],
   "source": []
  },
  {
   "cell_type": "code",
   "execution_count": null,
   "metadata": {},
   "outputs": [],
   "source": []
  },
  {
   "cell_type": "code",
   "execution_count": null,
   "metadata": {},
   "outputs": [],
   "source": []
  },
  {
   "cell_type": "code",
   "execution_count": null,
   "metadata": {},
   "outputs": [],
   "source": []
  },
  {
   "cell_type": "code",
   "execution_count": null,
   "metadata": {},
   "outputs": [],
   "source": []
  },
  {
   "cell_type": "code",
   "execution_count": null,
   "metadata": {},
   "outputs": [],
   "source": []
  },
  {
   "cell_type": "code",
   "execution_count": null,
   "metadata": {},
   "outputs": [],
   "source": []
  }
 ],
 "metadata": {
  "kernelspec": {
   "display_name": "Python 3",
   "language": "python",
   "name": "python3"
  },
  "language_info": {
   "codemirror_mode": {
    "name": "ipython",
    "version": 3
   },
   "file_extension": ".py",
   "mimetype": "text/x-python",
   "name": "python",
   "nbconvert_exporter": "python",
   "pygments_lexer": "ipython3",
   "version": "3.9.6"
  }
 },
 "nbformat": 4,
 "nbformat_minor": 2
}
