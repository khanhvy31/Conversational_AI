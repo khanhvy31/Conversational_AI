{
 "cells": [
  {
   "cell_type": "markdown",
   "metadata": {},
   "source": [
    "# Langchain\n",
    "Retrieve info using gpt2 and langchain"
   ]
  },
  {
   "cell_type": "code",
   "execution_count": 15,
   "metadata": {},
   "outputs": [
    {
     "name": "stdout",
     "output_type": "stream",
     "text": [
      "Note: you may need to restart the kernel to use updated packages.\n"
     ]
    }
   ],
   "source": [
    "pip install -qqq openai\n"
   ]
  },
  {
   "cell_type": "code",
   "execution_count": 13,
   "metadata": {},
   "outputs": [
    {
     "name": "stdout",
     "output_type": "stream",
     "text": [
      "Defaulting to user installation because normal site-packages is not writeable\n",
      "Collecting transformers\n",
      "  Using cached transformers-4.41.2-py3-none-any.whl (9.1 MB)\n",
      "Collecting einops\n",
      "  Using cached einops-0.8.0-py3-none-any.whl (43 kB)\n",
      "Collecting accelerate\n",
      "  Downloading accelerate-0.31.0-py3-none-any.whl (309 kB)\n",
      "\u001b[K     |████████████████████████████████| 309 kB 6.3 MB/s eta 0:00:01\n",
      "\u001b[?25hRequirement already satisfied: langchain in /Users/khanhvynguyen/Library/Python/3.9/lib/python/site-packages (0.2.5)\n",
      "Collecting bitsandbytes\n",
      "  Using cached bitsandbytes-0.42.0-py3-none-any.whl (105.0 MB)\n",
      "Requirement already satisfied: filelock in /Users/khanhvynguyen/Library/Python/3.9/lib/python/site-packages (from transformers) (3.15.4)\n",
      "Collecting regex!=2019.12.17\n",
      "  Downloading regex-2024.5.15-cp39-cp39-macosx_11_0_arm64.whl (278 kB)\n",
      "\u001b[K     |████████████████████████████████| 278 kB 53.4 MB/s eta 0:00:01\n",
      "\u001b[?25hRequirement already satisfied: tqdm>=4.27 in /Users/khanhvynguyen/Library/Python/3.9/lib/python/site-packages (from transformers) (4.66.4)\n",
      "Requirement already satisfied: huggingface-hub<1.0,>=0.23.0 in /Users/khanhvynguyen/Library/Python/3.9/lib/python/site-packages (from transformers) (0.23.4)\n",
      "Requirement already satisfied: numpy>=1.17 in /Users/khanhvynguyen/Library/Python/3.9/lib/python/site-packages (from transformers) (1.26.4)\n",
      "Requirement already satisfied: tokenizers<0.20,>=0.19 in /Users/khanhvynguyen/Library/Python/3.9/lib/python/site-packages (from transformers) (0.19.1)\n",
      "Collecting safetensors>=0.4.1\n",
      "  Downloading safetensors-0.4.3-cp39-cp39-macosx_11_0_arm64.whl (411 kB)\n",
      "\u001b[K     |████████████████████████████████| 411 kB 34.4 MB/s eta 0:00:01\n",
      "\u001b[?25hRequirement already satisfied: requests in /Users/khanhvynguyen/Library/Python/3.9/lib/python/site-packages (from transformers) (2.32.3)\n",
      "Requirement already satisfied: pyyaml>=5.1 in /Users/khanhvynguyen/Library/Python/3.9/lib/python/site-packages (from transformers) (6.0.1)\n",
      "Requirement already satisfied: packaging>=20.0 in /Users/khanhvynguyen/Library/Python/3.9/lib/python/site-packages (from transformers) (23.2)\n",
      "Requirement already satisfied: psutil in /Users/khanhvynguyen/Library/Python/3.9/lib/python/site-packages (from accelerate) (5.9.8)\n",
      "Collecting torch>=1.10.0\n",
      "  Downloading torch-2.3.1-cp39-none-macosx_11_0_arm64.whl (61.0 MB)\n",
      "\u001b[K     |████████████████████████████████| 61.0 MB 86.0 MB/s eta 0:00:01\n",
      "\u001b[?25hRequirement already satisfied: SQLAlchemy<3,>=1.4 in /Users/khanhvynguyen/Library/Python/3.9/lib/python/site-packages (from langchain) (2.0.31)\n",
      "Requirement already satisfied: langsmith<0.2.0,>=0.1.17 in /Users/khanhvynguyen/Library/Python/3.9/lib/python/site-packages (from langchain) (0.1.82)\n",
      "Requirement already satisfied: aiohttp<4.0.0,>=3.8.3 in /Users/khanhvynguyen/Library/Python/3.9/lib/python/site-packages (from langchain) (3.9.5)\n",
      "Requirement already satisfied: tenacity<9.0.0,>=8.1.0 in /Users/khanhvynguyen/Library/Python/3.9/lib/python/site-packages (from langchain) (8.4.2)\n",
      "Requirement already satisfied: langchain-core<0.3.0,>=0.2.7 in /Users/khanhvynguyen/Library/Python/3.9/lib/python/site-packages (from langchain) (0.2.9)\n",
      "Requirement already satisfied: pydantic<3,>=1 in /Users/khanhvynguyen/Library/Python/3.9/lib/python/site-packages (from langchain) (2.7.4)\n",
      "Requirement already satisfied: async-timeout<5.0.0,>=4.0.0 in /Users/khanhvynguyen/Library/Python/3.9/lib/python/site-packages (from langchain) (4.0.3)\n",
      "Requirement already satisfied: langchain-text-splitters<0.3.0,>=0.2.0 in /Users/khanhvynguyen/Library/Python/3.9/lib/python/site-packages (from langchain) (0.2.1)\n",
      "Collecting scipy\n",
      "  Downloading scipy-1.13.1-cp39-cp39-macosx_12_0_arm64.whl (30.3 MB)\n",
      "\u001b[K     |████████████████████████████████| 30.3 MB 137 kB/s eta 0:00:011\n",
      "\u001b[?25hRequirement already satisfied: yarl<2.0,>=1.0 in /Users/khanhvynguyen/Library/Python/3.9/lib/python/site-packages (from aiohttp<4.0.0,>=3.8.3->langchain) (1.9.4)\n",
      "Requirement already satisfied: multidict<7.0,>=4.5 in /Users/khanhvynguyen/Library/Python/3.9/lib/python/site-packages (from aiohttp<4.0.0,>=3.8.3->langchain) (6.0.5)\n",
      "Requirement already satisfied: attrs>=17.3.0 in /Users/khanhvynguyen/Library/Python/3.9/lib/python/site-packages (from aiohttp<4.0.0,>=3.8.3->langchain) (23.2.0)\n",
      "Requirement already satisfied: aiosignal>=1.1.2 in /Users/khanhvynguyen/Library/Python/3.9/lib/python/site-packages (from aiohttp<4.0.0,>=3.8.3->langchain) (1.3.1)\n",
      "Requirement already satisfied: frozenlist>=1.1.1 in /Users/khanhvynguyen/Library/Python/3.9/lib/python/site-packages (from aiohttp<4.0.0,>=3.8.3->langchain) (1.4.1)\n",
      "Requirement already satisfied: typing-extensions>=3.7.4.3 in /Users/khanhvynguyen/Library/Python/3.9/lib/python/site-packages (from huggingface-hub<1.0,>=0.23.0->transformers) (4.9.0)\n",
      "Requirement already satisfied: fsspec>=2023.5.0 in /Users/khanhvynguyen/Library/Python/3.9/lib/python/site-packages (from huggingface-hub<1.0,>=0.23.0->transformers) (2024.6.0)\n",
      "Requirement already satisfied: jsonpatch<2.0,>=1.33 in /Users/khanhvynguyen/Library/Python/3.9/lib/python/site-packages (from langchain-core<0.3.0,>=0.2.7->langchain) (1.33)\n",
      "Requirement already satisfied: jsonpointer>=1.9 in /Users/khanhvynguyen/Library/Python/3.9/lib/python/site-packages (from jsonpatch<2.0,>=1.33->langchain-core<0.3.0,>=0.2.7->langchain) (3.0.0)\n",
      "Requirement already satisfied: orjson<4.0.0,>=3.9.14 in /Users/khanhvynguyen/Library/Python/3.9/lib/python/site-packages (from langsmith<0.2.0,>=0.1.17->langchain) (3.10.5)\n",
      "Requirement already satisfied: pydantic-core==2.18.4 in /Users/khanhvynguyen/Library/Python/3.9/lib/python/site-packages (from pydantic<3,>=1->langchain) (2.18.4)\n",
      "Requirement already satisfied: annotated-types>=0.4.0 in /Users/khanhvynguyen/Library/Python/3.9/lib/python/site-packages (from pydantic<3,>=1->langchain) (0.7.0)\n",
      "Requirement already satisfied: certifi>=2017.4.17 in /Users/khanhvynguyen/Library/Python/3.9/lib/python/site-packages (from requests->transformers) (2024.6.2)\n",
      "Requirement already satisfied: urllib3<3,>=1.21.1 in /Users/khanhvynguyen/Library/Python/3.9/lib/python/site-packages (from requests->transformers) (2.2.2)\n",
      "Requirement already satisfied: idna<4,>=2.5 in /Users/khanhvynguyen/Library/Python/3.9/lib/python/site-packages (from requests->transformers) (3.7)\n",
      "Requirement already satisfied: charset-normalizer<4,>=2 in /Users/khanhvynguyen/Library/Python/3.9/lib/python/site-packages (from requests->transformers) (3.3.2)\n",
      "Collecting networkx\n",
      "  Downloading networkx-3.2.1-py3-none-any.whl (1.6 MB)\n",
      "\u001b[K     |████████████████████████████████| 1.6 MB 32.5 MB/s eta 0:00:01\n",
      "\u001b[?25hRequirement already satisfied: sympy in /Users/khanhvynguyen/Library/Python/3.9/lib/python/site-packages (from torch>=1.10.0->accelerate) (1.12.1)\n",
      "Requirement already satisfied: jinja2 in /Users/khanhvynguyen/Library/Python/3.9/lib/python/site-packages (from torch>=1.10.0->accelerate) (3.1.4)\n",
      "Requirement already satisfied: MarkupSafe>=2.0 in /Users/khanhvynguyen/Library/Python/3.9/lib/python/site-packages (from jinja2->torch>=1.10.0->accelerate) (2.1.5)\n",
      "Requirement already satisfied: mpmath<1.4.0,>=1.1.0 in /Users/khanhvynguyen/Library/Python/3.9/lib/python/site-packages (from sympy->torch>=1.10.0->accelerate) (1.3.0)\n",
      "Installing collected packages: networkx, torch, scipy, safetensors, regex, transformers, einops, bitsandbytes, accelerate\n",
      "Successfully installed accelerate-0.31.0 bitsandbytes-0.42.0 einops-0.8.0 networkx-3.2.1 regex-2024.5.15 safetensors-0.4.3 scipy-1.13.1 torch-2.3.1 transformers-4.41.2\n",
      "\u001b[33mWARNING: You are using pip version 21.2.4; however, version 24.0 is available.\n",
      "You should consider upgrading via the '/Library/Developer/CommandLineTools/usr/bin/python3 -m pip install --upgrade pip' command.\u001b[0m\n",
      "Note: you may need to restart the kernel to use updated packages.\n"
     ]
    }
   ],
   "source": [
    "pip install transformers einops accelerate langchain bitsandbytes\n"
   ]
  },
  {
   "cell_type": "code",
   "execution_count": 9,
   "metadata": {},
   "outputs": [
    {
     "name": "stdout",
     "output_type": "stream",
     "text": [
      "Defaulting to user installation because normal site-packages is not writeable\n",
      "Requirement already satisfied: langchain-community in /Users/khanhvynguyen/Library/Python/3.9/lib/python/site-packages (0.2.5)\n",
      "Requirement already satisfied: aiohttp<4.0.0,>=3.8.3 in /Users/khanhvynguyen/Library/Python/3.9/lib/python/site-packages (from langchain-community) (3.9.5)\n",
      "Requirement already satisfied: numpy<2,>=1 in /Users/khanhvynguyen/Library/Python/3.9/lib/python/site-packages (from langchain-community) (1.26.4)\n",
      "Requirement already satisfied: tenacity<9.0.0,>=8.1.0 in /Users/khanhvynguyen/Library/Python/3.9/lib/python/site-packages (from langchain-community) (8.4.2)\n",
      "Requirement already satisfied: SQLAlchemy<3,>=1.4 in /Users/khanhvynguyen/Library/Python/3.9/lib/python/site-packages (from langchain-community) (2.0.31)\n",
      "Requirement already satisfied: dataclasses-json<0.7,>=0.5.7 in /Users/khanhvynguyen/Library/Python/3.9/lib/python/site-packages (from langchain-community) (0.6.7)\n",
      "Requirement already satisfied: langchain-core<0.3.0,>=0.2.7 in /Users/khanhvynguyen/Library/Python/3.9/lib/python/site-packages (from langchain-community) (0.2.9)\n",
      "Requirement already satisfied: requests<3,>=2 in /Users/khanhvynguyen/Library/Python/3.9/lib/python/site-packages (from langchain-community) (2.32.3)\n",
      "Requirement already satisfied: langchain<0.3.0,>=0.2.5 in /Users/khanhvynguyen/Library/Python/3.9/lib/python/site-packages (from langchain-community) (0.2.5)\n",
      "Requirement already satisfied: PyYAML>=5.3 in /Users/khanhvynguyen/Library/Python/3.9/lib/python/site-packages (from langchain-community) (6.0.1)\n",
      "Requirement already satisfied: langsmith<0.2.0,>=0.1.0 in /Users/khanhvynguyen/Library/Python/3.9/lib/python/site-packages (from langchain-community) (0.1.82)\n",
      "Requirement already satisfied: frozenlist>=1.1.1 in /Users/khanhvynguyen/Library/Python/3.9/lib/python/site-packages (from aiohttp<4.0.0,>=3.8.3->langchain-community) (1.4.1)\n",
      "Requirement already satisfied: attrs>=17.3.0 in /Users/khanhvynguyen/Library/Python/3.9/lib/python/site-packages (from aiohttp<4.0.0,>=3.8.3->langchain-community) (23.2.0)\n",
      "Requirement already satisfied: yarl<2.0,>=1.0 in /Users/khanhvynguyen/Library/Python/3.9/lib/python/site-packages (from aiohttp<4.0.0,>=3.8.3->langchain-community) (1.9.4)\n",
      "Requirement already satisfied: async-timeout<5.0,>=4.0 in /Users/khanhvynguyen/Library/Python/3.9/lib/python/site-packages (from aiohttp<4.0.0,>=3.8.3->langchain-community) (4.0.3)\n",
      "Requirement already satisfied: multidict<7.0,>=4.5 in /Users/khanhvynguyen/Library/Python/3.9/lib/python/site-packages (from aiohttp<4.0.0,>=3.8.3->langchain-community) (6.0.5)\n",
      "Requirement already satisfied: aiosignal>=1.1.2 in /Users/khanhvynguyen/Library/Python/3.9/lib/python/site-packages (from aiohttp<4.0.0,>=3.8.3->langchain-community) (1.3.1)\n",
      "Requirement already satisfied: marshmallow<4.0.0,>=3.18.0 in /Users/khanhvynguyen/Library/Python/3.9/lib/python/site-packages (from dataclasses-json<0.7,>=0.5.7->langchain-community) (3.21.3)\n",
      "Requirement already satisfied: typing-inspect<1,>=0.4.0 in /Users/khanhvynguyen/Library/Python/3.9/lib/python/site-packages (from dataclasses-json<0.7,>=0.5.7->langchain-community) (0.9.0)\n",
      "Requirement already satisfied: langchain-text-splitters<0.3.0,>=0.2.0 in /Users/khanhvynguyen/Library/Python/3.9/lib/python/site-packages (from langchain<0.3.0,>=0.2.5->langchain-community) (0.2.1)\n",
      "Requirement already satisfied: pydantic<3,>=1 in /Users/khanhvynguyen/Library/Python/3.9/lib/python/site-packages (from langchain<0.3.0,>=0.2.5->langchain-community) (2.7.4)\n",
      "Requirement already satisfied: packaging<25,>=23.2 in /Users/khanhvynguyen/Library/Python/3.9/lib/python/site-packages (from langchain-core<0.3.0,>=0.2.7->langchain-community) (23.2)\n",
      "Requirement already satisfied: jsonpatch<2.0,>=1.33 in /Users/khanhvynguyen/Library/Python/3.9/lib/python/site-packages (from langchain-core<0.3.0,>=0.2.7->langchain-community) (1.33)\n",
      "Requirement already satisfied: jsonpointer>=1.9 in /Users/khanhvynguyen/Library/Python/3.9/lib/python/site-packages (from jsonpatch<2.0,>=1.33->langchain-core<0.3.0,>=0.2.7->langchain-community) (3.0.0)\n",
      "Requirement already satisfied: orjson<4.0.0,>=3.9.14 in /Users/khanhvynguyen/Library/Python/3.9/lib/python/site-packages (from langsmith<0.2.0,>=0.1.0->langchain-community) (3.10.5)\n",
      "Requirement already satisfied: annotated-types>=0.4.0 in /Users/khanhvynguyen/Library/Python/3.9/lib/python/site-packages (from pydantic<3,>=1->langchain<0.3.0,>=0.2.5->langchain-community) (0.7.0)\n",
      "Requirement already satisfied: pydantic-core==2.18.4 in /Users/khanhvynguyen/Library/Python/3.9/lib/python/site-packages (from pydantic<3,>=1->langchain<0.3.0,>=0.2.5->langchain-community) (2.18.4)\n",
      "Requirement already satisfied: typing-extensions>=4.6.1 in /Users/khanhvynguyen/Library/Python/3.9/lib/python/site-packages (from pydantic<3,>=1->langchain<0.3.0,>=0.2.5->langchain-community) (4.9.0)\n",
      "Requirement already satisfied: urllib3<3,>=1.21.1 in /Users/khanhvynguyen/Library/Python/3.9/lib/python/site-packages (from requests<3,>=2->langchain-community) (2.2.2)\n",
      "Requirement already satisfied: charset-normalizer<4,>=2 in /Users/khanhvynguyen/Library/Python/3.9/lib/python/site-packages (from requests<3,>=2->langchain-community) (3.3.2)\n",
      "Requirement already satisfied: idna<4,>=2.5 in /Users/khanhvynguyen/Library/Python/3.9/lib/python/site-packages (from requests<3,>=2->langchain-community) (3.7)\n",
      "Requirement already satisfied: certifi>=2017.4.17 in /Users/khanhvynguyen/Library/Python/3.9/lib/python/site-packages (from requests<3,>=2->langchain-community) (2024.6.2)\n",
      "Requirement already satisfied: mypy-extensions>=0.3.0 in /Users/khanhvynguyen/Library/Python/3.9/lib/python/site-packages (from typing-inspect<1,>=0.4.0->dataclasses-json<0.7,>=0.5.7->langchain-community) (1.0.0)\n",
      "\u001b[33mWARNING: You are using pip version 21.2.4; however, version 24.0 is available.\n",
      "You should consider upgrading via the '/Library/Developer/CommandLineTools/usr/bin/python3 -m pip install --upgrade pip' command.\u001b[0m\n",
      "Note: you may need to restart the kernel to use updated packages.\n"
     ]
    }
   ],
   "source": [
    "pip install -U langchain-community\n"
   ]
  },
  {
   "cell_type": "code",
   "execution_count": 10,
   "metadata": {},
   "outputs": [
    {
     "name": "stdout",
     "output_type": "stream",
     "text": [
      "Defaulting to user installation because normal site-packages is not writeable\n",
      "Requirement already satisfied: chromadb in /Users/khanhvynguyen/Library/Python/3.9/lib/python/site-packages (0.5.3)\n",
      "Requirement already satisfied: opentelemetry-sdk>=1.2.0 in /Users/khanhvynguyen/Library/Python/3.9/lib/python/site-packages (from chromadb) (1.25.0)\n",
      "Requirement already satisfied: opentelemetry-instrumentation-fastapi>=0.41b0 in /Users/khanhvynguyen/Library/Python/3.9/lib/python/site-packages (from chromadb) (0.46b0)\n",
      "Requirement already satisfied: build>=1.0.3 in /Users/khanhvynguyen/Library/Python/3.9/lib/python/site-packages (from chromadb) (1.2.1)\n",
      "Requirement already satisfied: PyYAML>=6.0.0 in /Users/khanhvynguyen/Library/Python/3.9/lib/python/site-packages (from chromadb) (6.0.1)\n",
      "Requirement already satisfied: tokenizers>=0.13.2 in /Users/khanhvynguyen/Library/Python/3.9/lib/python/site-packages (from chromadb) (0.19.1)\n",
      "Requirement already satisfied: tqdm>=4.65.0 in /Users/khanhvynguyen/Library/Python/3.9/lib/python/site-packages (from chromadb) (4.66.4)\n",
      "Requirement already satisfied: opentelemetry-exporter-otlp-proto-grpc>=1.2.0 in /Users/khanhvynguyen/Library/Python/3.9/lib/python/site-packages (from chromadb) (1.25.0)\n",
      "Requirement already satisfied: pydantic>=1.9 in /Users/khanhvynguyen/Library/Python/3.9/lib/python/site-packages (from chromadb) (2.7.4)\n",
      "Requirement already satisfied: pypika>=0.48.9 in /Users/khanhvynguyen/Library/Python/3.9/lib/python/site-packages (from chromadb) (0.48.9)\n",
      "Requirement already satisfied: posthog>=2.4.0 in /Users/khanhvynguyen/Library/Python/3.9/lib/python/site-packages (from chromadb) (3.5.0)\n",
      "Requirement already satisfied: importlib-resources in /Users/khanhvynguyen/Library/Python/3.9/lib/python/site-packages (from chromadb) (6.4.0)\n",
      "Requirement already satisfied: tenacity>=8.2.3 in /Users/khanhvynguyen/Library/Python/3.9/lib/python/site-packages (from chromadb) (8.4.2)\n",
      "Requirement already satisfied: orjson>=3.9.12 in /Users/khanhvynguyen/Library/Python/3.9/lib/python/site-packages (from chromadb) (3.10.5)\n",
      "Requirement already satisfied: typing-extensions>=4.5.0 in /Users/khanhvynguyen/Library/Python/3.9/lib/python/site-packages (from chromadb) (4.9.0)\n",
      "Requirement already satisfied: mmh3>=4.0.1 in /Users/khanhvynguyen/Library/Python/3.9/lib/python/site-packages (from chromadb) (4.1.0)\n",
      "Requirement already satisfied: typer>=0.9.0 in /Users/khanhvynguyen/Library/Python/3.9/lib/python/site-packages (from chromadb) (0.12.3)\n",
      "Requirement already satisfied: kubernetes>=28.1.0 in /Users/khanhvynguyen/Library/Python/3.9/lib/python/site-packages (from chromadb) (30.1.0)\n",
      "Requirement already satisfied: bcrypt>=4.0.1 in /Users/khanhvynguyen/Library/Python/3.9/lib/python/site-packages (from chromadb) (4.1.3)\n",
      "Requirement already satisfied: grpcio>=1.58.0 in /Users/khanhvynguyen/Library/Python/3.9/lib/python/site-packages (from chromadb) (1.64.1)\n",
      "Requirement already satisfied: onnxruntime>=1.14.1 in /Users/khanhvynguyen/Library/Python/3.9/lib/python/site-packages (from chromadb) (1.18.0)\n",
      "Requirement already satisfied: chroma-hnswlib==0.7.3 in /Users/khanhvynguyen/Library/Python/3.9/lib/python/site-packages (from chromadb) (0.7.3)\n",
      "Requirement already satisfied: numpy<2.0.0,>=1.22.5 in /Users/khanhvynguyen/Library/Python/3.9/lib/python/site-packages (from chromadb) (1.26.4)\n",
      "Requirement already satisfied: opentelemetry-api>=1.2.0 in /Users/khanhvynguyen/Library/Python/3.9/lib/python/site-packages (from chromadb) (1.25.0)\n",
      "Requirement already satisfied: uvicorn[standard]>=0.18.3 in /Users/khanhvynguyen/Library/Python/3.9/lib/python/site-packages (from chromadb) (0.30.1)\n",
      "Requirement already satisfied: overrides>=7.3.1 in /Users/khanhvynguyen/Library/Python/3.9/lib/python/site-packages (from chromadb) (7.7.0)\n",
      "Requirement already satisfied: httpx>=0.27.0 in /Users/khanhvynguyen/Library/Python/3.9/lib/python/site-packages (from chromadb) (0.27.0)\n",
      "Requirement already satisfied: fastapi>=0.95.2 in /Users/khanhvynguyen/Library/Python/3.9/lib/python/site-packages (from chromadb) (0.111.0)\n",
      "Requirement already satisfied: requests>=2.28 in /Users/khanhvynguyen/Library/Python/3.9/lib/python/site-packages (from chromadb) (2.32.3)\n",
      "Requirement already satisfied: pyproject_hooks in /Users/khanhvynguyen/Library/Python/3.9/lib/python/site-packages (from build>=1.0.3->chromadb) (1.1.0)\n",
      "Requirement already satisfied: tomli>=1.1.0 in /Users/khanhvynguyen/Library/Python/3.9/lib/python/site-packages (from build>=1.0.3->chromadb) (2.0.1)\n",
      "Requirement already satisfied: packaging>=19.1 in /Users/khanhvynguyen/Library/Python/3.9/lib/python/site-packages (from build>=1.0.3->chromadb) (23.2)\n",
      "Requirement already satisfied: importlib-metadata>=4.6 in /Users/khanhvynguyen/Library/Python/3.9/lib/python/site-packages (from build>=1.0.3->chromadb) (7.0.1)\n",
      "Requirement already satisfied: ujson!=4.0.2,!=4.1.0,!=4.2.0,!=4.3.0,!=5.0.0,!=5.1.0,>=4.0.1 in /Users/khanhvynguyen/Library/Python/3.9/lib/python/site-packages (from fastapi>=0.95.2->chromadb) (5.10.0)\n",
      "Requirement already satisfied: email_validator>=2.0.0 in /Users/khanhvynguyen/Library/Python/3.9/lib/python/site-packages (from fastapi>=0.95.2->chromadb) (2.2.0)\n",
      "Requirement already satisfied: fastapi-cli>=0.0.2 in /Users/khanhvynguyen/Library/Python/3.9/lib/python/site-packages (from fastapi>=0.95.2->chromadb) (0.0.4)\n",
      "Requirement already satisfied: jinja2>=2.11.2 in /Users/khanhvynguyen/Library/Python/3.9/lib/python/site-packages (from fastapi>=0.95.2->chromadb) (3.1.4)\n",
      "Requirement already satisfied: starlette<0.38.0,>=0.37.2 in /Users/khanhvynguyen/Library/Python/3.9/lib/python/site-packages (from fastapi>=0.95.2->chromadb) (0.37.2)\n",
      "Requirement already satisfied: python-multipart>=0.0.7 in /Users/khanhvynguyen/Library/Python/3.9/lib/python/site-packages (from fastapi>=0.95.2->chromadb) (0.0.9)\n",
      "Requirement already satisfied: idna>=2.0.0 in /Users/khanhvynguyen/Library/Python/3.9/lib/python/site-packages (from email_validator>=2.0.0->fastapi>=0.95.2->chromadb) (3.7)\n",
      "Requirement already satisfied: dnspython>=2.0.0 in /Users/khanhvynguyen/Library/Python/3.9/lib/python/site-packages (from email_validator>=2.0.0->fastapi>=0.95.2->chromadb) (2.6.1)\n",
      "Requirement already satisfied: anyio in /Users/khanhvynguyen/Library/Python/3.9/lib/python/site-packages (from httpx>=0.27.0->chromadb) (4.4.0)\n",
      "Requirement already satisfied: sniffio in /Users/khanhvynguyen/Library/Python/3.9/lib/python/site-packages (from httpx>=0.27.0->chromadb) (1.3.1)\n",
      "Requirement already satisfied: httpcore==1.* in /Users/khanhvynguyen/Library/Python/3.9/lib/python/site-packages (from httpx>=0.27.0->chromadb) (1.0.5)\n",
      "Requirement already satisfied: certifi in /Users/khanhvynguyen/Library/Python/3.9/lib/python/site-packages (from httpx>=0.27.0->chromadb) (2024.6.2)\n",
      "Requirement already satisfied: h11<0.15,>=0.13 in /Users/khanhvynguyen/Library/Python/3.9/lib/python/site-packages (from httpcore==1.*->httpx>=0.27.0->chromadb) (0.14.0)\n",
      "Requirement already satisfied: zipp>=0.5 in /Users/khanhvynguyen/Library/Python/3.9/lib/python/site-packages (from importlib-metadata>=4.6->build>=1.0.3->chromadb) (3.17.0)\n",
      "Requirement already satisfied: MarkupSafe>=2.0 in /Users/khanhvynguyen/Library/Python/3.9/lib/python/site-packages (from jinja2>=2.11.2->fastapi>=0.95.2->chromadb) (2.1.5)\n",
      "Requirement already satisfied: google-auth>=1.0.1 in /Users/khanhvynguyen/Library/Python/3.9/lib/python/site-packages (from kubernetes>=28.1.0->chromadb) (2.30.0)\n",
      "Requirement already satisfied: python-dateutil>=2.5.3 in /Users/khanhvynguyen/Library/Python/3.9/lib/python/site-packages (from kubernetes>=28.1.0->chromadb) (2.8.2)\n",
      "Requirement already satisfied: oauthlib>=3.2.2 in /Users/khanhvynguyen/Library/Python/3.9/lib/python/site-packages (from kubernetes>=28.1.0->chromadb) (3.2.2)\n",
      "Requirement already satisfied: urllib3>=1.24.2 in /Users/khanhvynguyen/Library/Python/3.9/lib/python/site-packages (from kubernetes>=28.1.0->chromadb) (2.2.2)\n",
      "Requirement already satisfied: six>=1.9.0 in /Library/Developer/CommandLineTools/Library/Frameworks/Python3.framework/Versions/3.9/lib/python3.9/site-packages (from kubernetes>=28.1.0->chromadb) (1.15.0)\n",
      "Requirement already satisfied: websocket-client!=0.40.0,!=0.41.*,!=0.42.*,>=0.32.0 in /Users/khanhvynguyen/Library/Python/3.9/lib/python/site-packages (from kubernetes>=28.1.0->chromadb) (1.8.0)\n",
      "Requirement already satisfied: requests-oauthlib in /Users/khanhvynguyen/Library/Python/3.9/lib/python/site-packages (from kubernetes>=28.1.0->chromadb) (2.0.0)\n",
      "Requirement already satisfied: pyasn1-modules>=0.2.1 in /Users/khanhvynguyen/Library/Python/3.9/lib/python/site-packages (from google-auth>=1.0.1->kubernetes>=28.1.0->chromadb) (0.4.0)\n",
      "Requirement already satisfied: rsa<5,>=3.1.4 in /Users/khanhvynguyen/Library/Python/3.9/lib/python/site-packages (from google-auth>=1.0.1->kubernetes>=28.1.0->chromadb) (4.9)\n",
      "Requirement already satisfied: cachetools<6.0,>=2.0.0 in /Users/khanhvynguyen/Library/Python/3.9/lib/python/site-packages (from google-auth>=1.0.1->kubernetes>=28.1.0->chromadb) (5.3.3)\n",
      "Requirement already satisfied: coloredlogs in /Users/khanhvynguyen/Library/Python/3.9/lib/python/site-packages (from onnxruntime>=1.14.1->chromadb) (15.0.1)\n",
      "Requirement already satisfied: sympy in /Users/khanhvynguyen/Library/Python/3.9/lib/python/site-packages (from onnxruntime>=1.14.1->chromadb) (1.12.1)\n",
      "Requirement already satisfied: flatbuffers in /Users/khanhvynguyen/Library/Python/3.9/lib/python/site-packages (from onnxruntime>=1.14.1->chromadb) (24.3.25)\n",
      "Requirement already satisfied: protobuf in /Users/khanhvynguyen/Library/Python/3.9/lib/python/site-packages (from onnxruntime>=1.14.1->chromadb) (4.25.3)\n",
      "Requirement already satisfied: deprecated>=1.2.6 in /Users/khanhvynguyen/Library/Python/3.9/lib/python/site-packages (from opentelemetry-api>=1.2.0->chromadb) (1.2.14)\n",
      "Requirement already satisfied: wrapt<2,>=1.10 in /Users/khanhvynguyen/Library/Python/3.9/lib/python/site-packages (from deprecated>=1.2.6->opentelemetry-api>=1.2.0->chromadb) (1.16.0)\n",
      "Requirement already satisfied: opentelemetry-exporter-otlp-proto-common==1.25.0 in /Users/khanhvynguyen/Library/Python/3.9/lib/python/site-packages (from opentelemetry-exporter-otlp-proto-grpc>=1.2.0->chromadb) (1.25.0)\n",
      "Requirement already satisfied: opentelemetry-proto==1.25.0 in /Users/khanhvynguyen/Library/Python/3.9/lib/python/site-packages (from opentelemetry-exporter-otlp-proto-grpc>=1.2.0->chromadb) (1.25.0)\n",
      "Requirement already satisfied: googleapis-common-protos~=1.52 in /Users/khanhvynguyen/Library/Python/3.9/lib/python/site-packages (from opentelemetry-exporter-otlp-proto-grpc>=1.2.0->chromadb) (1.63.2)\n",
      "Requirement already satisfied: opentelemetry-semantic-conventions==0.46b0 in /Users/khanhvynguyen/Library/Python/3.9/lib/python/site-packages (from opentelemetry-instrumentation-fastapi>=0.41b0->chromadb) (0.46b0)\n",
      "Requirement already satisfied: opentelemetry-instrumentation-asgi==0.46b0 in /Users/khanhvynguyen/Library/Python/3.9/lib/python/site-packages (from opentelemetry-instrumentation-fastapi>=0.41b0->chromadb) (0.46b0)\n",
      "Requirement already satisfied: opentelemetry-instrumentation==0.46b0 in /Users/khanhvynguyen/Library/Python/3.9/lib/python/site-packages (from opentelemetry-instrumentation-fastapi>=0.41b0->chromadb) (0.46b0)\n",
      "Requirement already satisfied: opentelemetry-util-http==0.46b0 in /Users/khanhvynguyen/Library/Python/3.9/lib/python/site-packages (from opentelemetry-instrumentation-fastapi>=0.41b0->chromadb) (0.46b0)\n",
      "Requirement already satisfied: setuptools>=16.0 in /Library/Developer/CommandLineTools/Library/Frameworks/Python3.framework/Versions/3.9/lib/python3.9/site-packages (from opentelemetry-instrumentation==0.46b0->opentelemetry-instrumentation-fastapi>=0.41b0->chromadb) (58.0.4)\n",
      "Requirement already satisfied: asgiref~=3.0 in /Users/khanhvynguyen/Library/Python/3.9/lib/python/site-packages (from opentelemetry-instrumentation-asgi==0.46b0->opentelemetry-instrumentation-fastapi>=0.41b0->chromadb) (3.8.1)\n",
      "Requirement already satisfied: monotonic>=1.5 in /Users/khanhvynguyen/Library/Python/3.9/lib/python/site-packages (from posthog>=2.4.0->chromadb) (1.6)\n",
      "Requirement already satisfied: backoff>=1.10.0 in /Users/khanhvynguyen/Library/Python/3.9/lib/python/site-packages (from posthog>=2.4.0->chromadb) (2.2.1)\n",
      "Requirement already satisfied: pyasn1<0.7.0,>=0.4.6 in /Users/khanhvynguyen/Library/Python/3.9/lib/python/site-packages (from pyasn1-modules>=0.2.1->google-auth>=1.0.1->kubernetes>=28.1.0->chromadb) (0.6.0)\n",
      "Requirement already satisfied: pydantic-core==2.18.4 in /Users/khanhvynguyen/Library/Python/3.9/lib/python/site-packages (from pydantic>=1.9->chromadb) (2.18.4)\n",
      "Requirement already satisfied: annotated-types>=0.4.0 in /Users/khanhvynguyen/Library/Python/3.9/lib/python/site-packages (from pydantic>=1.9->chromadb) (0.7.0)\n",
      "Requirement already satisfied: charset-normalizer<4,>=2 in /Users/khanhvynguyen/Library/Python/3.9/lib/python/site-packages (from requests>=2.28->chromadb) (3.3.2)\n",
      "Requirement already satisfied: exceptiongroup>=1.0.2 in /Users/khanhvynguyen/Library/Python/3.9/lib/python/site-packages (from anyio->httpx>=0.27.0->chromadb) (1.2.0)\n",
      "Requirement already satisfied: huggingface-hub<1.0,>=0.16.4 in /Users/khanhvynguyen/Library/Python/3.9/lib/python/site-packages (from tokenizers>=0.13.2->chromadb) (0.23.4)\n",
      "Requirement already satisfied: filelock in /Users/khanhvynguyen/Library/Python/3.9/lib/python/site-packages (from huggingface-hub<1.0,>=0.16.4->tokenizers>=0.13.2->chromadb) (3.15.4)\n",
      "Requirement already satisfied: fsspec>=2023.5.0 in /Users/khanhvynguyen/Library/Python/3.9/lib/python/site-packages (from huggingface-hub<1.0,>=0.16.4->tokenizers>=0.13.2->chromadb) (2024.6.0)\n",
      "Requirement already satisfied: rich>=10.11.0 in /Users/khanhvynguyen/Library/Python/3.9/lib/python/site-packages (from typer>=0.9.0->chromadb) (13.7.1)\n",
      "Requirement already satisfied: shellingham>=1.3.0 in /Users/khanhvynguyen/Library/Python/3.9/lib/python/site-packages (from typer>=0.9.0->chromadb) (1.5.4)\n",
      "Requirement already satisfied: click>=8.0.0 in /Users/khanhvynguyen/Library/Python/3.9/lib/python/site-packages (from typer>=0.9.0->chromadb) (8.1.7)\n",
      "Requirement already satisfied: markdown-it-py>=2.2.0 in /Users/khanhvynguyen/Library/Python/3.9/lib/python/site-packages (from rich>=10.11.0->typer>=0.9.0->chromadb) (3.0.0)\n",
      "Requirement already satisfied: pygments<3.0.0,>=2.13.0 in /Users/khanhvynguyen/Library/Python/3.9/lib/python/site-packages (from rich>=10.11.0->typer>=0.9.0->chromadb) (2.17.2)\n",
      "Requirement already satisfied: mdurl~=0.1 in /Users/khanhvynguyen/Library/Python/3.9/lib/python/site-packages (from markdown-it-py>=2.2.0->rich>=10.11.0->typer>=0.9.0->chromadb) (0.1.2)\n",
      "Requirement already satisfied: watchfiles>=0.13 in /Users/khanhvynguyen/Library/Python/3.9/lib/python/site-packages (from uvicorn[standard]>=0.18.3->chromadb) (0.22.0)\n",
      "Requirement already satisfied: python-dotenv>=0.13 in /Users/khanhvynguyen/Library/Python/3.9/lib/python/site-packages (from uvicorn[standard]>=0.18.3->chromadb) (1.0.1)\n",
      "Requirement already satisfied: httptools>=0.5.0 in /Users/khanhvynguyen/Library/Python/3.9/lib/python/site-packages (from uvicorn[standard]>=0.18.3->chromadb) (0.6.1)\n",
      "Requirement already satisfied: websockets>=10.4 in /Users/khanhvynguyen/Library/Python/3.9/lib/python/site-packages (from uvicorn[standard]>=0.18.3->chromadb) (12.0)\n",
      "Requirement already satisfied: uvloop!=0.15.0,!=0.15.1,>=0.14.0 in /Users/khanhvynguyen/Library/Python/3.9/lib/python/site-packages (from uvicorn[standard]>=0.18.3->chromadb) (0.19.0)\n",
      "Requirement already satisfied: humanfriendly>=9.1 in /Users/khanhvynguyen/Library/Python/3.9/lib/python/site-packages (from coloredlogs->onnxruntime>=1.14.1->chromadb) (10.0)\n",
      "Requirement already satisfied: mpmath<1.4.0,>=1.1.0 in /Users/khanhvynguyen/Library/Python/3.9/lib/python/site-packages (from sympy->onnxruntime>=1.14.1->chromadb) (1.3.0)\n",
      "\u001b[33mWARNING: You are using pip version 21.2.4; however, version 24.0 is available.\n",
      "You should consider upgrading via the '/Library/Developer/CommandLineTools/usr/bin/python3 -m pip install --upgrade pip' command.\u001b[0m\n",
      "Note: you may need to restart the kernel to use updated packages.\n"
     ]
    }
   ],
   "source": [
    "pip install -U chromadb"
   ]
  },
  {
   "cell_type": "code",
   "execution_count": 1,
   "metadata": {},
   "outputs": [
    {
     "name": "stderr",
     "output_type": "stream",
     "text": [
      "/Users/khanhvynguyen/Library/Python/3.9/lib/python/site-packages/urllib3/__init__.py:35: NotOpenSSLWarning: urllib3 v2 only supports OpenSSL 1.1.1+, currently the 'ssl' module is compiled with 'LibreSSL 2.8.3'. See: https://github.com/urllib3/urllib3/issues/3020\n",
      "  warnings.warn(\n",
      "/Users/khanhvynguyen/Library/Python/3.9/lib/python/site-packages/tqdm/auto.py:21: TqdmWarning: IProgress not found. Please update jupyter and ipywidgets. See https://ipywidgets.readthedocs.io/en/stable/user_install.html\n",
      "  from .autonotebook import tqdm as notebook_tqdm\n"
     ]
    }
   ],
   "source": [
    "import os\n",
    "import textwrap\n",
    "\n",
    "import langchain\n",
    "import chromadb\n",
    "import transformers\n",
    "import openai\n",
    "import torch\n",
    "\n",
    "from transformers import AutoTokenizer\n",
    "from langchain.llms.huggingface_pipeline import HuggingFacePipeline\n",
    "from langchain.text_splitter import CharacterTextSplitter\n",
    "from langchain.document_loaders.csv_loader import CSVLoader\n",
    "from langchain.embeddings import OpenAIEmbeddings\n",
    "from langchain.vectorstores import Chroma\n",
    "from langchain.chains import RetrievalQA\n",
    "from langchain.prompts import PromptTemplate"
   ]
  },
  {
   "cell_type": "code",
   "execution_count": 3,
   "metadata": {},
   "outputs": [
    {
     "name": "stdout",
     "output_type": "stream",
     "text": [
      "Defaulting to user installation because normal site-packages is not writeable\n",
      "Requirement already satisfied: huggingface_hub[cli] in /Users/khanhvynguyen/Library/Python/3.9/lib/python/site-packages (0.23.4)\n",
      "Requirement already satisfied: tqdm>=4.42.1 in /Users/khanhvynguyen/Library/Python/3.9/lib/python/site-packages (from huggingface_hub[cli]) (4.66.4)\n",
      "Requirement already satisfied: requests in /Users/khanhvynguyen/Library/Python/3.9/lib/python/site-packages (from huggingface_hub[cli]) (2.32.3)\n",
      "Requirement already satisfied: packaging>=20.9 in /Users/khanhvynguyen/Library/Python/3.9/lib/python/site-packages (from huggingface_hub[cli]) (23.2)\n",
      "Requirement already satisfied: fsspec>=2023.5.0 in /Users/khanhvynguyen/Library/Python/3.9/lib/python/site-packages (from huggingface_hub[cli]) (2024.6.0)\n",
      "Requirement already satisfied: pyyaml>=5.1 in /Users/khanhvynguyen/Library/Python/3.9/lib/python/site-packages (from huggingface_hub[cli]) (6.0.1)\n",
      "Requirement already satisfied: filelock in /Users/khanhvynguyen/Library/Python/3.9/lib/python/site-packages (from huggingface_hub[cli]) (3.15.4)\n",
      "Requirement already satisfied: typing-extensions>=3.7.4.3 in /Users/khanhvynguyen/Library/Python/3.9/lib/python/site-packages (from huggingface_hub[cli]) (4.9.0)\n",
      "Collecting InquirerPy==0.3.4\n",
      "  Downloading InquirerPy-0.3.4-py3-none-any.whl (67 kB)\n",
      "\u001b[K     |████████████████████████████████| 67 kB 7.6 MB/s eta 0:00:01\n",
      "\u001b[?25hCollecting pfzy<0.4.0,>=0.3.1\n",
      "  Downloading pfzy-0.3.4-py3-none-any.whl (8.5 kB)\n",
      "Requirement already satisfied: prompt-toolkit<4.0.0,>=3.0.1 in /Users/khanhvynguyen/Library/Python/3.9/lib/python/site-packages (from InquirerPy==0.3.4->huggingface_hub[cli]) (3.0.43)\n",
      "Requirement already satisfied: wcwidth in /Users/khanhvynguyen/Library/Python/3.9/lib/python/site-packages (from prompt-toolkit<4.0.0,>=3.0.1->InquirerPy==0.3.4->huggingface_hub[cli]) (0.2.13)\n",
      "Requirement already satisfied: idna<4,>=2.5 in /Users/khanhvynguyen/Library/Python/3.9/lib/python/site-packages (from requests->huggingface_hub[cli]) (3.7)\n",
      "Requirement already satisfied: urllib3<3,>=1.21.1 in /Users/khanhvynguyen/Library/Python/3.9/lib/python/site-packages (from requests->huggingface_hub[cli]) (2.2.2)\n",
      "Requirement already satisfied: certifi>=2017.4.17 in /Users/khanhvynguyen/Library/Python/3.9/lib/python/site-packages (from requests->huggingface_hub[cli]) (2024.6.2)\n",
      "Requirement already satisfied: charset-normalizer<4,>=2 in /Users/khanhvynguyen/Library/Python/3.9/lib/python/site-packages (from requests->huggingface_hub[cli]) (3.3.2)\n",
      "Installing collected packages: pfzy, InquirerPy\n",
      "Successfully installed InquirerPy-0.3.4 pfzy-0.3.4\n",
      "\u001b[33mWARNING: You are using pip version 21.2.4; however, version 24.0 is available.\n",
      "You should consider upgrading via the '/Library/Developer/CommandLineTools/usr/bin/python3 -m pip install --upgrade pip' command.\u001b[0m\n",
      "Note: you may need to restart the kernel to use updated packages.\n"
     ]
    }
   ],
   "source": [
    "pip install -U \"huggingface_hub[cli]\""
   ]
  },
  {
   "cell_type": "code",
   "execution_count": 4,
   "metadata": {},
   "outputs": [],
   "source": [
    "os.environ[\"OPENAI_API_KEY\"] = \"key\""
   ]
  },
  {
   "cell_type": "code",
   "execution_count": 5,
   "metadata": {},
   "outputs": [
    {
     "name": "stderr",
     "output_type": "stream",
     "text": [
      "/Users/khanhvynguyen/Library/Python/3.9/lib/python/site-packages/huggingface_hub/file_download.py:1132: FutureWarning: `resume_download` is deprecated and will be removed in version 1.0.0. Downloads always resume when possible. If you want to force a new download, use `force_download=True`.\n",
      "  warnings.warn(\n",
      "/Users/khanhvynguyen/Library/Python/3.9/lib/python/site-packages/langchain_core/_api/deprecation.py:139: LangChainDeprecationWarning: The class `HuggingFacePipeline` was deprecated in LangChain 0.0.37 and will be removed in 0.3. An updated version of the class exists in the langchain-huggingface package and should be used instead. To use it run `pip install -U langchain-huggingface` and import as `from langchain_huggingface import HuggingFacePipeline`.\n",
      "  warn_deprecated(\n"
     ]
    }
   ],
   "source": [
    "#Set up HuggingFace Pipeline with gpt-2 model\n",
    "model = \"openai-community/gpt2\"\n",
    "tokenizer = AutoTokenizer.from_pretrained(model)\n",
    "pipeline = transformers.pipeline(\n",
    "      \"text-generation\", #task\n",
    "      model=model,\n",
    "      tokenizer=tokenizer,\n",
    "      torch_dtype=torch.bfloat16,\n",
    "      trust_remote_code=True,\n",
    "      device_map=\"auto\",\n",
    "      max_length=1000,\n",
    "      do_sample=True,\n",
    "      top_k=10,\n",
    "      num_return_sequences=1,\n",
    "      eos_token_id=tokenizer.eos_token_id\n",
    ")\n",
    "\n",
    "#LLM intialized in HuggingFace Pipeline wrapper\n",
    "llm = HuggingFacePipeline(pipeline = pipeline, model_kwargs = {'temperature':0})"
   ]
  },
  {
   "cell_type": "code",
   "execution_count": null,
   "metadata": {},
   "outputs": [],
   "source": []
  },
  {
   "cell_type": "code",
   "execution_count": null,
   "metadata": {},
   "outputs": [],
   "source": []
  },
  {
   "cell_type": "code",
   "execution_count": null,
   "metadata": {},
   "outputs": [],
   "source": []
  },
  {
   "cell_type": "code",
   "execution_count": null,
   "metadata": {},
   "outputs": [],
   "source": []
  },
  {
   "cell_type": "code",
   "execution_count": null,
   "metadata": {},
   "outputs": [],
   "source": []
  },
  {
   "cell_type": "code",
   "execution_count": null,
   "metadata": {},
   "outputs": [],
   "source": []
  },
  {
   "cell_type": "code",
   "execution_count": null,
   "metadata": {},
   "outputs": [],
   "source": []
  },
  {
   "cell_type": "code",
   "execution_count": null,
   "metadata": {},
   "outputs": [],
   "source": []
  },
  {
   "cell_type": "code",
   "execution_count": null,
   "metadata": {},
   "outputs": [],
   "source": []
  }
 ],
 "metadata": {
  "kernelspec": {
   "display_name": "Python 3",
   "language": "python",
   "name": "python3"
  },
  "language_info": {
   "codemirror_mode": {
    "name": "ipython",
    "version": 3
   },
   "file_extension": ".py",
   "mimetype": "text/x-python",
   "name": "python",
   "nbconvert_exporter": "python",
   "pygments_lexer": "ipython3",
   "version": "3.9.6"
  }
 },
 "nbformat": 4,
 "nbformat_minor": 2
}
